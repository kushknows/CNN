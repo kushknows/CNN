{
 "cells": [
  {
   "cell_type": "code",
   "execution_count": 1,
   "metadata": {
    "colab": {},
    "colab_type": "code",
    "id": "90xEHdCc5LFe"
   },
   "outputs": [],
   "source": [
    "import numpy as np\n",
    "import tensorflow as tf\n",
    "import matplotlib.pyplot as plt\n",
    "\n",
    "from tensorflow.keras import Model\n",
    "from tensorflow.keras.models import Sequential\n",
    "from tensorflow.keras.losses import categorical_crossentropy\n",
    "from tensorflow.keras.layers import Dense, Flatten, Conv2D, AveragePooling2D \n",
    "\n",
    "from tensorflow.keras import datasets\n",
    "from tensorflow.keras.utils import to_categorical"
   ]
  },
  {
   "cell_type": "code",
   "execution_count": 2,
   "metadata": {
    "colab": {},
    "colab_type": "code",
    "id": "5MBfLf6X6tKU"
   },
   "outputs": [
    {
     "name": "stdout",
     "output_type": "stream",
     "text": [
      "Downloading data from https://storage.googleapis.com/tensorflow/tf-keras-datasets/train-labels-idx1-ubyte.gz\n",
      "32768/29515 [=================================] - 0s 4us/step\n",
      "Downloading data from https://storage.googleapis.com/tensorflow/tf-keras-datasets/train-images-idx3-ubyte.gz\n",
      "26427392/26421880 [==============================] - 40s 2us/step\n",
      "Downloading data from https://storage.googleapis.com/tensorflow/tf-keras-datasets/t10k-labels-idx1-ubyte.gz\n",
      "8192/5148 [===============================================] - 0s 0us/step\n",
      "Downloading data from https://storage.googleapis.com/tensorflow/tf-keras-datasets/t10k-images-idx3-ubyte.gz\n",
      "4423680/4422102 [==============================] - 4s 1us/step\n"
     ]
    }
   ],
   "source": [
    "(x_train, y_train), (x_test, y_test) = datasets.fashion_mnist.load_data()"
   ]
  },
  {
   "cell_type": "code",
   "execution_count": 3,
   "metadata": {
    "colab": {
     "base_uri": "https://localhost:8080/",
     "height": 51
    },
    "colab_type": "code",
    "id": "Sj45aT6a7L76",
    "outputId": "d3cfe2f0-d835-4fd2-d82c-5aec2b6690df"
   },
   "outputs": [
    {
     "name": "stdout",
     "output_type": "stream",
     "text": [
      "x_train Shape : (60000, 28, 28)\n",
      "y_train Shape : (60000,)\n"
     ]
    }
   ],
   "source": [
    "print('x_train Shape :', x_train.shape)\n",
    "print('y_train Shape :', y_train.shape)"
   ]
  },
  {
   "cell_type": "code",
   "execution_count": 4,
   "metadata": {
    "colab": {
     "base_uri": "https://localhost:8080/",
     "height": 282
    },
    "colab_type": "code",
    "id": "JesgQkzi7StD",
    "outputId": "d2dac4f4-2dca-49af-8ea1-a528cbfe3239"
   },
   "outputs": [
    {
     "name": "stdout",
     "output_type": "stream",
     "text": [
      "2\n"
     ]
    },
    {
     "data": {
      "image/png": "[encoded data removed]",
      "text/plain": [
       "<Figure size 432x288 with 1 Axes>"
      ]
     },
     "metadata": {
      "needs_background": "light"
     },
     "output_type": "display_data"
    }
   ],
   "source": [
    "plt.imshow(x_train[5,:,:])\n",
    "print(y_train[5])"
   ]
  },
  {
   "cell_type": "code",
   "execution_count": 5,
   "metadata": {
    "colab": {
     "base_uri": "https://localhost:8080/",
     "height": 85
    },
    "colab_type": "code",
    "id": "TUHFTk5A8NP2",
    "outputId": "94cc9938-f321-4516-9cc1-e17420749e76"
   },
   "outputs": [
    {
     "name": "stdout",
     "output_type": "stream",
     "text": [
      "x_train Shape:  (60000, 28, 28, 1)\n",
      "y_train Shape:  (60000,)\n",
      "Size of x_train:  60000\n",
      "Size of y_train:  60000\n"
     ]
    }
   ],
   "source": [
    "x_train = x_train[:,:,:, np.newaxis]\n",
    "x_test = x_test[:,:,:, np.newaxis]\n",
    "\n",
    "print('x_train Shape: ', x_train.shape)\n",
    "print('y_train Shape: ', y_train.shape)\n",
    "print('Size of x_train: ', len(x_train))\n",
    "print('Size of y_train: ', len(y_train))"
   ]
  },
  {
   "cell_type": "code",
   "execution_count": 6,
   "metadata": {
    "colab": {},
    "colab_type": "code",
    "id": "nJmgzOweA_aW"
   },
   "outputs": [],
   "source": [
    "num_classes = 10\n",
    "y_train = to_categorical(y_train, num_classes)\n",
    "y_test = to_categorical(y_test, num_classes)"
   ]
  },
  {
   "cell_type": "code",
   "execution_count": 7,
   "metadata": {
    "colab": {
     "base_uri": "https://localhost:8080/",
     "height": 34
    },
    "colab_type": "code",
    "id": "PBORpTuAB1IE",
    "outputId": "594043e2-e77e-419b-d08f-37d4b20cc6b5"
   },
   "outputs": [
    {
     "data": {
      "text/plain": [
       "array([0., 0., 0., 0., 0., 0., 0., 0., 0., 1.], dtype=float32)"
      ]
     },
     "execution_count": 7,
     "metadata": {},
     "output_type": "execute_result"
    }
   ],
   "source": [
    "y_train[0]"
   ]
  },
  {
   "cell_type": "code",
   "execution_count": 8,
   "metadata": {
    "colab": {},
    "colab_type": "code",
    "id": "gUoPtDE_B2yE"
   },
   "outputs": [],
   "source": [
    "x_train = x_train.astype('float32')\n",
    "x_test = x_test.astype('float32')\n",
    "x_train = x_train/255\n",
    "x_test = x_test/255"
   ]
  },
  {
   "cell_type": "code",
   "execution_count": 9,
   "metadata": {
    "colab": {},
    "colab_type": "code",
    "id": "rR6IFY2gCSar"
   },
   "outputs": [],
   "source": [
    "input_shape= x_train[0].shape"
   ]
  },
  {
   "cell_type": "code",
   "execution_count": 10,
   "metadata": {
    "colab": {},
    "colab_type": "code",
    "id": "3Wx8gLVNC4KT"
   },
   "outputs": [],
   "source": [
    "model = tf.keras.models.Sequential([\n",
    "                             tf.keras.layers.Conv2D(filters= 6 , kernel_size=(5,5), strides=(1,1),activation='tanh', input_shape=input_shape, padding='same'),\n",
    "                             tf.keras.layers.AveragePooling2D(pool_size=(2,2), strides=(2,2),padding = 'valid'),\n",
    "                             tf.keras.layers.Conv2D(filters=16, kernel_size=(5,5),strides= (1,1),activation='tanh', padding='valid'),\n",
    "                             tf.keras.layers.AveragePooling2D(pool_size=(2,2), strides=(2,2), padding='valid'),\n",
    "                             tf.keras.layers.Flatten(),\n",
    "                             tf.keras.layers.Dense(120, activation='relu'),\n",
    "                             tf.keras.layers.Dense(84, activation='relu'),\n",
    "                             tf.keras.layers.Dense(10, activation='softmax')\n",
    "\n",
    "])"
   ]
  },
  {
   "cell_type": "code",
   "execution_count": 11,
   "metadata": {
    "colab": {
     "base_uri": "https://localhost:8080/",
     "height": 425
    },
    "colab_type": "code",
    "id": "kbOnr2vVHIxh",
    "outputId": "437a9840-5b5a-4ff7-9022-1617f85e7b3d"
   },
   "outputs": [
    {
     "name": "stdout",
     "output_type": "stream",
     "text": [
      "Model: \"sequential\"\n",
      "_________________________________________________________________\n",
      "Layer (type)                 Output Shape              Param #   \n",
      "=================================================================\n",
      "conv2d (Conv2D)              (None, 28, 28, 6)         156       \n",
      "_________________________________________________________________\n",
      "average_pooling2d (AveragePo (None, 14, 14, 6)         0         \n",
      "_________________________________________________________________\n",
      "conv2d_1 (Conv2D)            (None, 10, 10, 16)        2416      \n",
      "_________________________________________________________________\n",
      "average_pooling2d_1 (Average (None, 5, 5, 16)          0         \n",
      "_________________________________________________________________\n",
      "flatten (Flatten)            (None, 400)               0         \n",
      "_________________________________________________________________\n",
      "dense (Dense)                (None, 120)               48120     \n",
      "_________________________________________________________________\n",
      "dense_1 (Dense)              (None, 84)                10164     \n",
      "_________________________________________________________________\n",
      "dense_2 (Dense)              (None, 10)                850       \n",
      "=================================================================\n",
      "Total params: 61,706\n",
      "Trainable params: 61,706\n",
      "Non-trainable params: 0\n",
      "_________________________________________________________________\n"
     ]
    }
   ],
   "source": [
    "model.summary()"
   ]
  },
  {
   "cell_type": "code",
   "execution_count": 24,
   "metadata": {},
   "outputs": [],
   "source": [
    "import datetime\n",
    "log_dir=\"C:\\\\tmp\\\\tf_logs\\\\\" + datetime.datetime.now().strftime(\"%Y%m%d-%H%M%S\")\n",
    "# Specify the callback object\n",
    "tensorboard_callback = tf.keras.callbacks.TensorBoard(log_dir=log_dir, histogram_freq=1, profile_batch= 100000000)"
   ]
  },
  {
   "cell_type": "code",
   "execution_count": 25,
   "metadata": {
    "colab": {
     "base_uri": "https://localhost:8080/",
     "height": 697
    },
    "colab_type": "code",
    "id": "Vb_v5NfLHfAE",
    "outputId": "74eeb583-06db-4e70-88b9-1e01846843b9"
   },
   "outputs": [
    {
     "name": "stdout",
     "output_type": "stream",
     "text": [
      "Train on 60000 samples, validate on 10000 samples\n",
      "Epoch 1/20\n",
      "60000/60000 [==============================] - 46s 765us/sample - loss: 0.5379 - accuracy: 0.8023 - val_loss: 0.4321 - val_accuracy: 0.8428\n",
      "Epoch 2/20\n",
      "60000/60000 [==============================] - 61s 1ms/sample - loss: 0.3771 - accuracy: 0.8601 - val_loss: 0.3840 - val_accuracy: 0.8603\n",
      "Epoch 3/20\n",
      "60000/60000 [==============================] - 74s 1ms/sample - loss: 0.3335 - accuracy: 0.8756 - val_loss: 0.3532 - val_accuracy: 0.8710\n",
      "Epoch 4/20\n",
      "60000/60000 [==============================] - 101s 2ms/sample - loss: 0.3032 - accuracy: 0.8873 - val_loss: 0.3208 - val_accuracy: 0.8821\n",
      "Epoch 5/20\n",
      "60000/60000 [==============================] - 125s 2ms/sample - loss: 0.2814 - accuracy: 0.8944 - val_loss: 0.3169 - val_accuracy: 0.8815\n",
      "Epoch 6/20\n",
      "60000/60000 [==============================] - 142s 2ms/sample - loss: 0.2639 - accuracy: 0.8998 - val_loss: 0.3019 - val_accuracy: 0.8880\n",
      "Epoch 7/20\n",
      "60000/60000 [==============================] - 171s 3ms/sample - loss: 0.2479 - accuracy: 0.9086 - val_loss: 0.3175 - val_accuracy: 0.8826\n",
      "Epoch 8/20\n",
      "60000/60000 [==============================] - 198s 3ms/sample - loss: 0.2332 - accuracy: 0.9130 - val_loss: 0.2926 - val_accuracy: 0.8945\n",
      "Epoch 9/20\n",
      "60000/60000 [==============================] - 221s 4ms/sample - loss: 0.2204 - accuracy: 0.9171 - val_loss: 0.2958 - val_accuracy: 0.8925\n",
      "Epoch 10/20\n",
      "60000/60000 [==============================] - 249s 4ms/sample - loss: 0.2114 - accuracy: 0.9193 - val_loss: 0.2889 - val_accuracy: 0.8997\n",
      "Epoch 11/20\n",
      "60000/60000 [==============================] - 279s 5ms/sample - loss: 0.1991 - accuracy: 0.9240 - val_loss: 0.3015 - val_accuracy: 0.8955\n",
      "Epoch 12/20\n",
      "60000/60000 [==============================] - 305s 5ms/sample - loss: 0.1886 - accuracy: 0.9281 - val_loss: 0.3203 - val_accuracy: 0.8893\n",
      "Epoch 13/20\n",
      "60000/60000 [==============================] - 336s 6ms/sample - loss: 0.1789 - accuracy: 0.9324 - val_loss: 0.3069 - val_accuracy: 0.8951\n",
      "Epoch 14/20\n",
      "60000/60000 [==============================] - 372s 6ms/sample - loss: 0.1700 - accuracy: 0.9354 - val_loss: 0.3085 - val_accuracy: 0.8968\n",
      "Epoch 15/20\n",
      "60000/60000 [==============================] - 404s 7ms/sample - loss: 0.1635 - accuracy: 0.9380 - val_loss: 0.3118 - val_accuracy: 0.9009\n",
      "Epoch 16/20\n",
      "60000/60000 [==============================] - 428s 7ms/sample - loss: 0.1540 - accuracy: 0.9414 - val_loss: 0.3266 - val_accuracy: 0.8979\n",
      "Epoch 17/20\n",
      "60000/60000 [==============================] - 459s 8ms/sample - loss: 0.1448 - accuracy: 0.9453 - val_loss: 0.3502 - val_accuracy: 0.8917\n",
      "Epoch 18/20\n",
      "60000/60000 [==============================] - 505s 8ms/sample - loss: 0.1369 - accuracy: 0.9478 - val_loss: 0.3444 - val_accuracy: 0.8998\n",
      "Epoch 19/20\n",
      "60000/60000 [==============================] - 537s 9ms/sample - loss: 0.1324 - accuracy: 0.9499 - val_loss: 0.3372 - val_accuracy: 0.9005\n",
      "Epoch 20/20\n",
      "60000/60000 [==============================] - 571s 10ms/sample - loss: 0.1245 - accuracy: 0.9532 - val_loss: 0.3426 - val_accuracy: 0.9036\n"
     ]
    }
   ],
   "source": [
    "model.compile(optimizer='adam',loss=categorical_crossentropy, metrics=['accuracy'])\n",
    "history = model.fit(x_train, y =y_train, epochs = 20, callbacks=[tensorboard_callback],validation_data = (x_test, y_test))"
   ]
  },
  {
   "cell_type": "code",
   "execution_count": 26,
   "metadata": {
    "colab": {
     "base_uri": "https://localhost:8080/",
     "height": 282
    },
    "colab_type": "code",
    "id": "vaSNinusIOxx",
    "outputId": "5046fbeb-f782-41b6-d4b9-87d0efa32396"
   },
   "outputs": [
    {
     "data": {
      "image/png": "[encoded data removed]",
      "text/plain": [
       "<Figure size 432x288 with 1 Axes>"
      ]
     },
     "metadata": {
      "needs_background": "light"
     },
     "output_type": "display_data"
    }
   ],
   "source": [
    "plt.plot(history.history['accuracy']),\n",
    "plt.plot(history.history['val_accuracy'])\n",
    "plt.xlabel('Epochs')\n",
    "plt.ylabel('Accuracy')\n",
    "plt.legend(['train_case','test_case'], loc='upper left')\n",
    "plt.show()"
   ]
  },
  {
   "cell_type": "code",
   "execution_count": 27,
   "metadata": {
    "colab": {
     "base_uri": "https://localhost:8080/",
     "height": 279
    },
    "colab_type": "code",
    "id": "xGigKfoBKtR1",
    "outputId": "64c245b4-c785-4d8c-cdf1-091ea3003e5c"
   },
   "outputs": [
    {
     "data": {
      "image/png": "[encoded data removed]",
      "text/plain": [
       "<Figure size 432x288 with 1 Axes>"
      ]
     },
     "metadata": {
      "needs_background": "light"
     },
     "output_type": "display_data"
    }
   ],
   "source": [
    "plt.plot(history.history['loss'])\n",
    "plt.plot(history.history['val_loss'])\n",
    "plt.xlabel('Epochs')\n",
    "plt.ylabel('loss')\n",
    "plt.legend(['train_case','test_case'], loc = 'upper left')\n",
    "plt.show()\n",
    "\n",
    "\n",
    "\n",
    "\n",
    "tf.compat.v1.summary.scalar('accuracy',res)\n",
    "\n"
   ]
  },
  {
   "cell_type": "code",
   "execution_count": 28,
   "metadata": {
    "colab": {},
    "colab_type": "code",
    "id": "6U1406QGO1Ol"
   },
   "outputs": [],
   "source": [
    "import pandas as pd\n",
    "from sklearn.metrics import confusion_matrix\n",
    "categorical_test_labels = pd.DataFrame(y_test).idxmax(axis=1)\n",
    "categorical_preds = pd.DataFrame(model.predict(x_test)).idxmax(axis=1)\n",
    "confusion_matrix= confusion_matrix(categorical_test_labels, categorical_preds)"
   ]
  },
  {
   "cell_type": "code",
   "execution_count": 29,
   "metadata": {
    "colab": {
     "base_uri": "https://localhost:8080/",
     "height": 187
    },
    "colab_type": "code",
    "id": "p2NG-C_1ZsT4",
    "outputId": "f019cdb6-d45e-475c-9dc7-c18813b01ea1"
   },
   "outputs": [
    {
     "data": {
      "text/plain": [
       "array([[864,   0,  18,  21,   2,   1,  87,   0,   7,   0],\n",
       "       [  1, 981,   0,  10,   3,   0,   4,   0,   1,   0],\n",
       "       [ 19,   0, 844,  11,  63,   0,  60,   0,   3,   0],\n",
       "       [ 16,  11,   9, 918,  23,   0,  20,   0,   3,   0],\n",
       "       [  1,   1,  66,  37, 834,   0,  59,   0,   2,   0],\n",
       "       [  1,   0,   0,   0,   0, 975,   0,  18,   0,   6],\n",
       "       [130,   0,  55,  18,  67,   1, 716,   0,  13,   0],\n",
       "       [  0,   0,   0,   0,   0,   8,   0, 966,   0,  26],\n",
       "       [  6,   2,   2,   7,   4,   3,   0,   3, 971,   2],\n",
       "       [  1,   0,   0,   0,   0,   5,   0,  27,   0, 967]], dtype=int64)"
      ]
     },
     "execution_count": 29,
     "metadata": {},
     "output_type": "execute_result"
    }
   ],
   "source": [
    "confusion_matrix"
   ]
  },
  {
   "cell_type": "code",
   "execution_count": 30,
   "metadata": {
    "colab": {
     "base_uri": "https://localhost:8080/",
     "height": 282
    },
    "colab_type": "code",
    "id": "xlXVJPYwbl1G",
    "outputId": "c2e757ac-841e-41c8-fd4f-b4b7be045dea"
   },
   "outputs": [
    {
     "data": {
      "text/plain": [
       "<matplotlib.colorbar.Colorbar at 0x1d683e1cf08>"
      ]
     },
     "execution_count": 30,
     "metadata": {},
     "output_type": "execute_result"
    },
    {
     "data": {
      "image/png": "[encoded data removed]",
      "text/plain": [
       "<Figure size 432x288 with 2 Axes>"
      ]
     },
     "metadata": {
      "needs_background": "light"
     },
     "output_type": "display_data"
    }
   ],
   "source": [
    "plt.imshow(confusion_matrix, interpolation='nearest', cmap=plt.cm.Blues)\n",
    "#plt.title(title)\n",
    "plt.colorbar()"
   ]
  },
  {
   "cell_type": "code",
   "execution_count": 32,
   "metadata": {
    "colab": {},
    "colab_type": "code",
    "id": "Qws_zpDvYhiq"
   },
   "outputs": [],
   "source": [
    "from tensorboard.plugins.custom_scalar import layout_pb2"
   ]
  },
  {
   "cell_type": "code",
   "execution_count": 31,
   "metadata": {
    "colab": {
     "base_uri": "https://localhost:8080/",
     "height": 34
    },
    "colab_type": "code",
    "id": "sm_7zcREZ5I5",
    "outputId": "79398de0-67bc-46fe-ba6a-6a3bc38bcd8c"
   },
   "outputs": [
    {
     "name": "stderr",
     "output_type": "stream",
     "text": [
      "UsageError: Line magic function `%tensorboard` not found.\n"
     ]
    }
   ],
   "source": [
    "%tensorboard --logdir logs/fit"
   ]
  },
  {
   "cell_type": "code",
   "execution_count": 74,
   "metadata": {
    "colab": {
     "base_uri": "https://localhost:8080/",
     "height": 187
    },
    "colab_type": "code",
    "id": "tn-iYqIzXKjo",
    "outputId": "9cb5d8c6-bf0a-4679-9b98-9fef9b78a9db"
   },
   "outputs": [
    {
     "data": {
      "text/plain": [
       "array([[848,   4,  17,  22,   5,   2,  95,   0,   7,   0],\n",
       "       [  2, 973,   2,  15,   5,   0,   3,   0,   0,   0],\n",
       "       [ 16,   2, 847,  10,  62,   0,  56,   1,   5,   1],\n",
       "       [  9,  13,  11, 905,  27,   0,  31,   0,   3,   1],\n",
       "       [  1,   1,  71,  33, 828,   0,  61,   0,   5,   0],\n",
       "       [  0,   0,   2,   2,   0, 967,   0,  17,   1,  11],\n",
       "       [108,   1,  82,  34,  64,   0, 699,   0,  12,   0],\n",
       "       [  0,   0,   0,   0,   0,   6,   0, 961,   1,  32],\n",
       "       [  5,   1,   3,   7,   1,   1,   6,   3, 973,   0],\n",
       "       [  0,   0,   0,   0,   1,   3,   0,  26,   0, 970]])"
      ]
     },
     "execution_count": 74,
     "metadata": {
      "tags": []
     },
     "output_type": "execute_result"
    }
   ],
   "source": [
    "def plot_confusion_matrix(cm):\n",
    "  \n"
   ]
  },
  {
   "cell_type": "code",
   "execution_count": 0,
   "metadata": {
    "colab": {},
    "colab_type": "code",
    "id": "r8gYmnClXctG"
   },
   "outputs": [],
   "source": []
  }
 ],
 "metadata": {
  "accelerator": "GPU",
  "colab": {
   "name": "Untitled10.ipynb",
   "provenance": []
  },
  "kernelspec": {
   "display_name": "Python 3",
   "language": "python",
   "name": "python3"
  },
  "language_info": {
   "codemirror_mode": {
    "name": "ipython",
    "version": 3
   },
   "file_extension": ".py",
   "mimetype": "text/x-python",
   "name": "python",
   "nbconvert_exporter": "python",
   "pygments_lexer": "ipython3",
   "version": "3.7.4"
  }
 },
 "nbformat": 4,
 "nbformat_minor": 1
}
